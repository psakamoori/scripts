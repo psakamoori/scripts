{
 "cells": [
  {
   "cell_type": "markdown",
   "metadata": {},
   "source": [
    "# Get Access to OpenVINO Deep Learning Workbench with OpenVINO AMI"
   ]
  },
  {
   "cell_type": "markdown",
   "metadata": {},
   "source": [
    "- With the launch of OpenVINO AMI, the OpenVINO Deep Learning Workbench is launched automatically with authentication enabled. Running the following cells will help you retreive the **OpenVINO DL Workbench URL and authentication token.**\n",
    "\n",
    "- ### [Click here for more detailed information](https://docs.openvinotoolkit.org/latest/workbench_docs_Workbench_DG_Authentication.html)"
   ]
  },
  {
   "cell_type": "markdown",
   "metadata": {},
   "source": [
    "## Launch OpenVINO Deep Learning Workbench \n",
    "- **Goto  [http://\\<Your-EC2-Instance-IP\\>:5665](#) to launch.**\n",
    "- Run the the following cell to get the  **OpenVINO DL Workbench URL and authentication token.**\n",
    "#### NOTE: If you get `No such file or directory` error, please try again after 1 min, as the docker container is still booting up.\n"
   ]
  },
  {
   "cell_type": "code",
   "execution_count": null,
   "metadata": {},
   "outputs": [],
   "source": [
    "%%sh\n",
    "dl_workbench_token=`docker exec workbench cat /home/workbench/.workbench/token.txt`\n",
    "ec2_instance_public_ip=`cat /home/ec2-user/.public-ipv4.txt`\n",
    "echo \"OpenVINO DL Workbench URL: http://$ec2_instance_public_ip:5665/\"\n",
    "echo -e \"\\nToken for both DL Workbench and DL Workbench JupyterLab:\"\n",
    "echo \"$dl_workbench_token\""
   ]
  },
  {
   "cell_type": "markdown",
   "metadata": {},
   "source": [
    "### [Optional] Retrieve Token from the OpenVINO DL workbench docker container\n",
    "Run the the following cell to print OpenVINO DL Workbench authentication token.\n",
    "#### NOTE: If you get `No such file or directory` error, please try again after 1 min, as the docker container is still booting up."
   ]
  },
  {
   "cell_type": "code",
   "execution_count": null,
   "metadata": {},
   "outputs": [],
   "source": [
    "!docker exec workbench cat /home/workbench/.workbench/token.txt"
   ]
  },
  {
   "cell_type": "markdown",
   "metadata": {},
   "source": [
    "## Run below cells to get more information on DL Workbench container."
   ]
  },
  {
   "cell_type": "markdown",
   "metadata": {},
   "source": [
    "#### [Optional] See the logs to check the status of workbench launch..."
   ]
  },
  {
   "cell_type": "code",
   "execution_count": null,
   "metadata": {},
   "outputs": [],
   "source": [
    "!docker logs workbench"
   ]
  },
  {
   "cell_type": "markdown",
   "metadata": {},
   "source": [
    "#### [Optional] See the logs with continuos streaming of containers output...\n",
    "#### NOTE: Click `\"Esc + i i\"` or `Kernel → Interrupt` to exit out, after running the below cell."
   ]
  },
  {
   "cell_type": "code",
   "execution_count": null,
   "metadata": {},
   "outputs": [],
   "source": [
    "!docker logs --follow workbench"
   ]
  },
  {
   "cell_type": "code",
   "execution_count": null,
   "metadata": {},
   "outputs": [],
   "source": []
  }
 ],
 "metadata": {
  "interpreter": {
   "hash": "31f2aee4e71d21fbe5cf8b01ff0e069b9275f58929596ceb00d14d90e3e16cd6"
  },
  "kernelspec": {
   "display_name": "Python 3",
   "language": "python",
   "name": "python3"
  },
  "language_info": {
   "codemirror_mode": {
    "name": "ipython",
    "version": 3
   },
   "file_extension": ".py",
   "mimetype": "text/x-python",
   "name": "python",
   "nbconvert_exporter": "python",
   "pygments_lexer": "ipython3",
   "version": "3.6.9"
  }
 },
 "nbformat": 4,
 "nbformat_minor": 5
}