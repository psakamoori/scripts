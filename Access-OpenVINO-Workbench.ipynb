{
 "cells": [
  {
   "cell_type": "markdown",
   "metadata": {},
   "source": [
    "# Get Access to OpenVINO Deep Learning Workbench with OpenVINO AMI"
   ]
  },
  {
   "cell_type": "markdown",
   "metadata": {},
   "source": [
    "With the launch of OpenVINO AMI, the OpenVINO Deep Learning Workbench is launched automatically with authentication enabled. Running the following cells will help you retreive the authentication token.\n",
    "\n",
    "### [Click here for more detailed information](https://docs.openvinotoolkit.org/latest/workbench_docs_Workbench_DG_Authentication.html)"
   ]
  },
  {
   "cell_type": "markdown",
   "metadata": {},
   "source": [
    "### Retrieve Token from the OpenVINO DL workbench docker container\n",
    "Run the the following cell to get the token.\n",
    "#### NOTE: If you get `No such file or directory` error, please try again after 1 min, as the docker container is still booting up."
   ]
  },
  {
   "cell_type": "code",
   "execution_count": null,
   "metadata": {},
   "outputs": [],
   "source": [
    "!docker exec workbench cat /home/workbench/.workbench/token.txt"
   ]
  },
  {
   "cell_type": "markdown",
   "metadata": {},
   "source": [
    "### Launch OpenVINO Deep Learning Workbench \n",
    "- #### Goto  [http://your-ec2-instance-IP:5665](http://<your-ec2-instance-ip>:5665) to launch.\n",
    "- When prompted for token, paste the above retrieved token. [Click here for more detailed information](https://docs.openvinotoolkit.org/latest/workbench_docs_Workbench_DG_Authentication.html)"
   ]
  },
  {
   "cell_type": "markdown",
   "metadata": {},
   "source": [
    "## Below are optional cells. \n",
    "Can be used to debug."
   ]
  },
  {
   "cell_type": "markdown",
   "metadata": {},
   "source": [
    "### [OPTIONAL] See the logs to check the status of workbench launch..."
   ]
  },
  {
   "cell_type": "code",
   "execution_count": null,
   "metadata": {},
   "outputs": [],
   "source": [
    "!docker logs workbench"
   ]
  },
  {
   "cell_type": "markdown",
   "metadata": {},
   "source": [
    "### [OPTIONAL] See the logs with continuos streaming of containers output...\n",
    "#### NOTE: Click `\"Esc + i i\"` or `Kernel → Interrupt` to exit out, after running the below cell."
   ]
  },
  {
   "cell_type": "code",
   "execution_count": null,
   "metadata": {},
   "outputs": [],
   "source": [
    "!docker logs --follow workbench"
   ]
  },
  {
   "cell_type": "code",
   "execution_count": null,
   "metadata": {},
   "outputs": [],
   "source": []
  }
 ],
 "metadata": {
  "interpreter": {
   "hash": "31f2aee4e71d21fbe5cf8b01ff0e069b9275f58929596ceb00d14d90e3e16cd6"
  },
  "kernelspec": {
   "display_name": "Python 3.8.2 64-bit",
   "name": "python3"
  },
  "language_info": {
   "name": "python",
   "version": ""
  }
 },
 "nbformat": 4,
 "nbformat_minor": 5
}