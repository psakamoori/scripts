{
 "cells": [
  {
   "cell_type": "markdown",
   "id": "6fca62da",
   "metadata": {},
   "source": [
    "# Get Access to OpenVINO Deep Learning Workbench with OpenVINO AMI"
   ]
  },
  {
   "cell_type": "markdown",
   "id": "c425ec04",
   "metadata": {},
   "source": [
    "With the launch of OpenVINO AMI, the OpenVINO Deep Learning Workbench is launched automatically with authentication enabled. Running the following cells will help you retreive the authentication token.\n",
    "\n",
    "### [Click here for more detailed information](https://docs.openvinotoolkit.org/latest/workbench_docs_Workbench_DG_Authentication.html)"
   ]
  },
  {
   "cell_type": "markdown",
   "id": "b7abb34b",
   "metadata": {},
   "source": [
    "### Retrieve Token from the OpenVINO DL workbench docker container\n",
    "Run the the following cell to get the token.\n",
    "#### NOTE: If you get `No such file or directory` error, please try after 1min, as the docker container is still booting up."
   ]
  },
  {
   "cell_type": "code",
   "execution_count": null,
   "id": "cf1030a1",
   "metadata": {},
   "outputs": [],
   "source": [
    "!docker exec workbench cat /home/workbench/.workbench/token.txt"
   ]
  },
  {
   "cell_type": "markdown",
   "id": "5ec5f57c",
   "metadata": {},
   "source": [
    "### Launch OpenVINO Deep Learning Workbench \n",
    "- #### Goto  [http://your-ec2-instance-IP:5665](http://<your-ec2-instance-ip>:5665) to launch.\n",
    "- When prompted for token, paste the above retrieved token. [Click here for more detailed information](https://docs.openvinotoolkit.org/latest/workbench_docs_Workbench_DG_Authentication.html)"
   ]
  },
  {
   "cell_type": "markdown",
   "id": "d219f027",
   "metadata": {},
   "source": [
    "## Below are optional cells. \n",
    "Can be used to debug."
   ]
  },
  {
   "cell_type": "markdown",
   "id": "82b6b33d",
   "metadata": {},
   "source": [
    "### [OPTIONAL] See the logs to check the status of workbench launch..."
   ]
  },
  {
   "cell_type": "code",
   "execution_count": null,
   "id": "2b6dd5e8",
   "metadata": {},
   "outputs": [],
   "source": [
    "!docker logs workbench"
   ]
  },
  {
   "cell_type": "markdown",
   "id": "77ee7d39",
   "metadata": {},
   "source": [
    "### [OPTIONAL] See the logs with continuos streaming of containers output...\n",
    "#### NOTE: Click `\"Esc + i i\"` or `Kernel → Interrupt` to exit out, after running the below cell."
   ]
  },
  {
   "cell_type": "code",
   "execution_count": null,
   "id": "4a30d3f2",
   "metadata": {},
   "outputs": [],
   "source": [
    "!docker logs --follow workbench"
   ]
  },
  {
   "cell_type": "code",
   "execution_count": null,
   "id": "a002135f",
   "metadata": {},
   "outputs": [],
   "source": []
  }
 ],
 "metadata": {
  "kernelspec": {
   "display_name": "Python 3 (ipykernel)",
   "language": "python",
   "name": "python3"
  },
  "language_info": {
   "codemirror_mode": {
    "name": "ipython",
    "version": 3
   },
   "file_extension": ".py",
   "mimetype": "text/x-python",
   "name": "python",
   "nbconvert_exporter": "python",
   "pygments_lexer": "ipython3",
   "version": "3.7.10"
  }
 },
 "nbformat": 4,
 "nbformat_minor": 5
}
